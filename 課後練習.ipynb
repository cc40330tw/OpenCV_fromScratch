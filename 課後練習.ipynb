{
 "cells": [
  {
   "cell_type": "code",
   "execution_count": 1,
   "metadata": {},
   "outputs": [
    {
     "data": {
      "text/plain": [
       "array([ 0,  1,  2,  3,  4,  5,  6,  7,  8,  9, 10, 11, 12, 13, 14])"
      ]
     },
     "execution_count": 1,
     "metadata": {},
     "output_type": "execute_result"
    }
   ],
   "source": [
    "import numpy as np\n",
    "a = np.arange(15)\n",
    "a"
   ]
  },
  {
   "cell_type": "code",
   "execution_count": 3,
   "metadata": {},
   "outputs": [
    {
     "data": {
      "text/plain": [
       "array([[ 0,  1,  2,  3,  4],\n",
       "       [ 5,  6,  7,  8,  9],\n",
       "       [10, 11, 12, 13, 14]])"
      ]
     },
     "execution_count": 3,
     "metadata": {},
     "output_type": "execute_result"
    }
   ],
   "source": [
    "aa = a.reshape(3,5)\n",
    "aa"
   ]
  },
  {
   "cell_type": "code",
   "execution_count": 5,
   "metadata": {},
   "outputs": [
    {
     "name": "stdout",
     "output_type": "stream",
     "text": [
      "1\n",
      "2\n"
     ]
    }
   ],
   "source": [
    "#陣列的維度\n",
    "print(a.ndim)\n",
    "print(aa.ndim) "
   ]
  },
  {
   "cell_type": "code",
   "execution_count": 6,
   "metadata": {},
   "outputs": [
    {
     "name": "stdout",
     "output_type": "stream",
     "text": [
      "(15,)\n",
      "(3, 5)\n"
     ]
    }
   ],
   "source": [
    "#陣列各維度大小\n",
    "print(a.shape)\n",
    "print(aa.shape) #(3, 5)代表3x5的矩陣"
   ]
  },
  {
   "cell_type": "code",
   "execution_count": 7,
   "metadata": {},
   "outputs": [
    {
     "name": "stdout",
     "output_type": "stream",
     "text": [
      "15\n",
      "15\n"
     ]
    }
   ],
   "source": [
    "#陣列總元素個數\n",
    "print(a.size)\n",
    "print(aa.size)"
   ]
  },
  {
   "cell_type": "code",
   "execution_count": 8,
   "metadata": {},
   "outputs": [
    {
     "name": "stdout",
     "output_type": "stream",
     "text": [
      "4\n",
      "4\n"
     ]
    }
   ],
   "source": [
    "#陣列每個元素的byte數\n",
    "print(a.itemsize)\n",
    "print(aa.itemsize)"
   ]
  },
  {
   "cell_type": "code",
   "execution_count": 9,
   "metadata": {},
   "outputs": [
    {
     "name": "stdout",
     "output_type": "stream",
     "text": [
      "int32\n",
      "int32\n"
     ]
    }
   ],
   "source": [
    "#陣列元素類型\n",
    "print(a.dtype)\n",
    "print(aa.dtype)"
   ]
  },
  {
   "cell_type": "code",
   "execution_count": 11,
   "metadata": {},
   "outputs": [
    {
     "data": {
      "text/plain": [
       "array(['1', '2'], dtype='<U1')"
      ]
     },
     "execution_count": 11,
     "metadata": {},
     "output_type": "execute_result"
    }
   ],
   "source": [
    "b = np.array([\"1\", 2]) # <代表little-endian ; U1代表 unsigned ints of size 1 byte \n",
    "b"
   ]
  },
  {
   "cell_type": "code",
   "execution_count": 12,
   "metadata": {},
   "outputs": [
    {
     "data": {
      "text/plain": [
       "array([1, 2])"
      ]
     },
     "execution_count": 12,
     "metadata": {},
     "output_type": "execute_result"
    }
   ],
   "source": [
    "bb = np.array([1, 2])\n",
    "bb"
   ]
  },
  {
   "cell_type": "code",
   "execution_count": 13,
   "metadata": {},
   "outputs": [
    {
     "name": "stdout",
     "output_type": "stream",
     "text": [
      "1 (2,) 2 <U1 4\n",
      "1 (2,) 2 int32 4\n"
     ]
    }
   ],
   "source": [
    "print(b.ndim,b.shape,b.size,b.dtype,b.itemsize)\n",
    "print(bb.ndim,bb.shape,bb.size,bb.dtype,bb.itemsize)"
   ]
  },
  {
   "cell_type": "code",
   "execution_count": 1,
   "metadata": {},
   "outputs": [
    {
     "name": "stdout",
     "output_type": "stream",
     "text": [
      "[[[253 253 253]\n",
      "  [253 253 253]\n",
      "  [253 253 253]\n",
      "  ...\n",
      "  [253 253 253]\n",
      "  [253 253 253]\n",
      "  [253 253 253]]\n",
      "\n",
      " [[253 253 253]\n",
      "  [253 253 253]\n",
      "  [253 253 253]\n",
      "  ...\n",
      "  [253 253 253]\n",
      "  [253 253 253]\n",
      "  [253 253 253]]\n",
      "\n",
      " [[253 253 253]\n",
      "  [253 253 253]\n",
      "  [253 253 253]\n",
      "  ...\n",
      "  [253 253 253]\n",
      "  [253 253 253]\n",
      "  [253 253 253]]\n",
      "\n",
      " ...\n",
      "\n",
      " [[253 253 253]\n",
      "  [253 253 253]\n",
      "  [253 253 253]\n",
      "  ...\n",
      "  [253 253 253]\n",
      "  [253 253 253]\n",
      "  [253 253 253]]\n",
      "\n",
      " [[253 253 253]\n",
      "  [253 253 253]\n",
      "  [253 253 253]\n",
      "  ...\n",
      "  [253 253 253]\n",
      "  [253 253 253]\n",
      "  [253 253 253]]\n",
      "\n",
      " [[253 253 253]\n",
      "  [253 253 253]\n",
      "  [253 253 253]\n",
      "  ...\n",
      "  [253 253 253]\n",
      "  [253 253 253]\n",
      "  [253 253 253]]]\n",
      "<class 'numpy.ndarray'>\n",
      "3\n",
      "(426, 571, 3)\n"
     ]
    }
   ],
   "source": [
    "import cv2\n",
    "import sys\n",
    "\n",
    "imagePath = './sample/01-color_space/test.jpg'\n",
    "image = cv2.imread(imagePath) #用來讀取圖片檔；並儲存成NumPy的陣列\n",
    "print(image)\n",
    "print(type(image))\n",
    "print(image.ndim) #3\n",
    "print(image.shape) #(426, 571, 3)；圖片尺寸是571x426(單位:像素) \n",
    "#NumPy陣列的前兩個維度是圖片的高度&寬度\n",
    "#的三個維度是圖片的channel(RGB彩色就是3;灰階就是1)\n",
    "\n",
    "image_1 = cv2.imread(imagePath,cv2.IMREAD_COLOR) #這是預設(忽略透明度)\n",
    "image_2 = cv2.imread(imagePath,cv2.IMREAD_GRAYSCALE) #以灰階格式讀取\n",
    "image_3 = cv2.imread(imagePath,cv2.IMREAD_UNCHANGED) #讀取圖片中所有的channels,包含透明度的channel\n",
    "\n",
    "#cv2.namedWindow(\"This is a picture\",cv2.WINDOW_NORMAL) -> 如果按最大化，圖會跟著放大佔滿視窗，比例可能因此拉寬\n",
    "cv2.imshow(\"This is a picture\",image)\n",
    "\n",
    "#cv2.imshow(\"image1\",image_1)\n",
    "#cv2.imshow(\"image2\",image_2)\n",
    "#cv2.imshow(\"image3\",image_3)\n",
    "\n",
    "cv2.waitKey(0) #0代表持續等待直到使用者按下任意按鍵為止；若填入數字就會是倒數毫秒數(ms)\n",
    "cv2.destroyAllWindows() #如果在程式中有許多的OpenCV視窗，而只要關閉特定的視窗時，可以改用cv2.destroyWindow('視窗名稱')\n"
   ]
  },
  {
   "cell_type": "code",
   "execution_count": 4,
   "metadata": {},
   "outputs": [
    {
     "name": "stdout",
     "output_type": "stream",
     "text": [
      "[[[253 253 253]\n",
      "  [253 253 253]\n",
      "  [253 253 253]\n",
      "  ...\n",
      "  [253 253 253]\n",
      "  [253 253 253]\n",
      "  [253 253 253]]\n",
      "\n",
      " [[253 253 253]\n",
      "  [253 253 253]\n",
      "  [253 253 253]\n",
      "  ...\n",
      "  [253 253 253]\n",
      "  [253 253 253]\n",
      "  [253 253 253]]\n",
      "\n",
      " [[253 253 253]\n",
      "  [253 253 253]\n",
      "  [253 253 253]\n",
      "  ...\n",
      "  [253 253 253]\n",
      "  [253 253 253]\n",
      "  [253 253 253]]\n",
      "\n",
      " ...\n",
      "\n",
      " [[253 253 253]\n",
      "  [253 253 253]\n",
      "  [253 253 253]\n",
      "  ...\n",
      "  [253 253 253]\n",
      "  [253 253 253]\n",
      "  [253 253 253]]\n",
      "\n",
      " [[253 253 253]\n",
      "  [253 253 253]\n",
      "  [253 253 253]\n",
      "  ...\n",
      "  [253 253 253]\n",
      "  [253 253 253]\n",
      "  [253 253 253]]\n",
      "\n",
      " [[253 253 253]\n",
      "  [253 253 253]\n",
      "  [253 253 253]\n",
      "  ...\n",
      "  [253 253 253]\n",
      "  [253 253 253]\n",
      "  [253 253 253]]]\n",
      "<class 'numpy.ndarray'>\n",
      "3\n",
      "(426, 571, 3)\n"
     ]
    }
   ],
   "source": [
    "import cv2\n",
    "import sys\n",
    "\n",
    "imagePath = './sample/01-color_space/test.jpg'\n",
    "image = cv2.imread(imagePath) #用來讀取圖片檔；並儲存成NumPy的陣列\n",
    "print(image)\n",
    "print(type(image))\n",
    "print(image.ndim) #3\n",
    "print(image.shape) #(426, 571, 3)；圖片尺寸是571x426(單位:像素) \n",
    "\n",
    "image_1 = cv2.imread(imagePath,cv2.IMREAD_COLOR) #這是預設(忽略透明度)\n",
    "image_2 = cv2.imread(imagePath,cv2.IMREAD_GRAYSCALE) #以灰階格式讀取\n",
    "image_3 = cv2.imread(imagePath,cv2.IMREAD_UNCHANGED) #讀取圖片中所有的channels,包含透明度的channel\n",
    "\n",
    "#cv2.putText(img, TEXT, (x,y), font, scale, color) 在圖上面疊字\n",
    "cv2.putText(image,\"Penguin!\",(50,70),cv2.FONT_HERSHEY_SIMPLEX,3,(255,155,255))\n",
    "\n",
    "#cv2.namedWindow(\"This is a picture\",cv2.WINDOW_NORMAL) -> 如果按最大化，圖會跟著放大佔滿視窗，比例可能因此拉寬\n",
    "cv2.imshow(\"This is a picture\",image)\n",
    "\n",
    "#將影像存成檔案\n",
    "cv2.imwrite(\"penguin.png\",image)\n",
    "#cv2.imwrite(\"penguin_compress.png\",image,[cv2.IMWRITE_PNG_COMPRESSION,9])\n",
    "\n",
    "cv2.waitKey(0) #0代表持續等待直到使用者按下任意按鍵為止；若填入數字就會是倒數毫秒數(ms)\n",
    "cv2.destroyAllWindows() #如果在程式中有許多的OpenCV視窗，而只要關閉特定的視窗時，可以改用cv2.destroyWindow('視窗名稱')\n"
   ]
  },
  {
   "cell_type": "code",
   "execution_count": 51,
   "metadata": {
    "slideshow": {
     "slide_type": "notes"
    }
   },
   "outputs": [
    {
     "name": "stdout",
     "output_type": "stream",
     "text": [
      "[[[0 0 0]\n",
      "  [0 0 0]\n",
      "  [0 0 0]\n",
      "  ...\n",
      "  [0 0 0]\n",
      "  [0 0 0]\n",
      "  [0 0 0]]\n",
      "\n",
      " [[0 0 0]\n",
      "  [0 0 0]\n",
      "  [0 0 0]\n",
      "  ...\n",
      "  [0 0 0]\n",
      "  [0 0 0]\n",
      "  [0 0 0]]\n",
      "\n",
      " [[0 0 0]\n",
      "  [0 0 0]\n",
      "  [0 0 0]\n",
      "  ...\n",
      "  [0 0 0]\n",
      "  [0 0 0]\n",
      "  [0 0 0]]\n",
      "\n",
      " ...\n",
      "\n",
      " [[0 0 0]\n",
      "  [0 0 0]\n",
      "  [0 0 0]\n",
      "  ...\n",
      "  [0 0 0]\n",
      "  [0 0 0]\n",
      "  [0 0 0]]\n",
      "\n",
      " [[0 0 0]\n",
      "  [0 0 0]\n",
      "  [0 0 0]\n",
      "  ...\n",
      "  [0 0 0]\n",
      "  [0 0 0]\n",
      "  [0 0 0]]\n",
      "\n",
      " [[0 0 0]\n",
      "  [0 0 0]\n",
      "  [0 0 0]\n",
      "  ...\n",
      "  [0 0 0]\n",
      "  [0 0 0]\n",
      "  [0 0 0]]] \n",
      "\n",
      "[[[200 200 200]\n",
      "  [200 200 200]\n",
      "  [200 200 200]\n",
      "  ...\n",
      "  [200 200 200]\n",
      "  [200 200 200]\n",
      "  [200 200 200]]\n",
      "\n",
      " [[200 200 200]\n",
      "  [200 200 200]\n",
      "  [200 200 200]\n",
      "  ...\n",
      "  [200 200 200]\n",
      "  [200 200 200]\n",
      "  [200 200 200]]\n",
      "\n",
      " [[200 200 200]\n",
      "  [200 200 200]\n",
      "  [200 200 200]\n",
      "  ...\n",
      "  [200 200 200]\n",
      "  [200 200 200]\n",
      "  [200 200 200]]\n",
      "\n",
      " ...\n",
      "\n",
      " [[200 200 200]\n",
      "  [200 200 200]\n",
      "  [200 200 200]\n",
      "  ...\n",
      "  [200 200 200]\n",
      "  [200 200 200]\n",
      "  [200 200 200]]\n",
      "\n",
      " [[200 200 200]\n",
      "  [200 200 200]\n",
      "  [200 200 200]\n",
      "  ...\n",
      "  [200 200 200]\n",
      "  [200 200 200]\n",
      "  [200 200 200]]\n",
      "\n",
      " [[200 200 200]\n",
      "  [200 200 200]\n",
      "  [200 200 200]\n",
      "  ...\n",
      "  [200 200 200]\n",
      "  [200 200 200]\n",
      "  [200 200 200]]]\n"
     ]
    }
   ],
   "source": [
    "#直線部分\n",
    "\n",
    "import numpy as np\n",
    "import cv2\n",
    "img = np.zeros((256,256,3),np.uint8)\n",
    "print(img,\"\\n\")\n",
    "img.fill(200) #把圖片用淺灰色填滿\n",
    "print(img)\n",
    "\n",
    "#cv2.line(影像, 開始座標, 結束座標, 顏色, 線條寬度)\n",
    "cv2.line(img,(0,0),(255,255),(100,0,200),5)\n",
    "\n",
    "#cv2.rectangle(影像, 頂點座標, 對向頂點座標, 顏色, 線條寬度) \n",
    "cv2.rectangle(img,(20,160),(120,60),(100,250,150),3)\n",
    "cv2.rectangle(img,(20,50),(120,150),(100,0,150),3)\n",
    "cv2.rectangle(img,(40,80),(100,140),(0,255,0),-1) #負數是實心框\n",
    "\n",
    "#cv2.circle(影像, 圓心座標, 半徑, 顏色, 線條寬度) \n",
    "cv2.circle(img,(90,210),30,(0,255,255),3)\n",
    "cv2.circle(img,(120,220),15,(255,0,0),-1)\n",
    "\n",
    "#cv2.ellipse(影像, 中心座標, 軸長(半長軸與半短軸的長度), 旋轉角度, 起始角度, 結束角度, 顏色, 線條寬度) \n",
    "cv2.ellipse(img,(180,200),(25,55),45,0,360,(205,0,255),2)\n",
    "cv2.ellipse(img,(180,200),(20,50),45,0,180,(255,0,255),-1)\n",
    "\n",
    "cv2.imshow(\"My Image\",img)\n",
    "cv2.waitKey(0)\n",
    "cv2.destroyAllWindows()"
   ]
  },
  {
   "cell_type": "code",
   "execution_count": null,
   "metadata": {},
   "outputs": [],
   "source": []
  },
  {
   "cell_type": "code",
   "execution_count": null,
   "metadata": {},
   "outputs": [],
   "source": []
  }
 ],
 "metadata": {
  "kernelspec": {
   "display_name": "Python 3",
   "language": "python",
   "name": "python3"
  },
  "language_info": {
   "codemirror_mode": {
    "name": "ipython",
    "version": 3
   },
   "file_extension": ".py",
   "mimetype": "text/x-python",
   "name": "python",
   "nbconvert_exporter": "python",
   "pygments_lexer": "ipython3",
   "version": "3.8.6"
  }
 },
 "nbformat": 4,
 "nbformat_minor": 4
}
